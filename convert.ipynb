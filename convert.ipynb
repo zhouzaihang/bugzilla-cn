{
 "cells": [
  {
   "cell_type": "code",
   "execution_count": 1,
   "metadata": {},
   "outputs": [],
   "source": [
    "from langconv import *\n",
    "import os, shutil\n",
    "from tqdm import tqdm"
   ]
  },
  {
   "cell_type": "code",
   "execution_count": 2,
   "metadata": {},
   "outputs": [],
   "source": [
    "local_dir = os.path.abspath('.')\n",
    "target_dir = './default'\n",
    "result_dir = local_dir + '/result'\n",
    "if not os.path.exists(result_dir):  \n",
    "    os.makedirs(result_dir)"
   ]
  },
  {
   "cell_type": "code",
   "execution_count": 3,
   "metadata": {},
   "outputs": [],
   "source": [
    "def Traditional2Simplified(sentence):\n",
    "    sentence = Converter('zh-hans').convert(sentence)\n",
    "    return sentence"
   ]
  },
  {
   "cell_type": "code",
   "execution_count": 4,
   "metadata": {},
   "outputs": [],
   "source": [
    "def readtemp(filePath):\n",
    "    with open(filePath, \"rb\") as fr:\n",
    "        return fr.read().decode(\"utf8\", \"replace\")"
   ]
  },
  {
   "cell_type": "code",
   "execution_count": 5,
   "metadata": {},
   "outputs": [],
   "source": [
    "def writeFile(filePath, content):\n",
    "    with open(filePath, \"wb\") as fw:\n",
    "        fw.write(content.encode(\"utf8\", \"replace\"))"
   ]
  },
  {
   "cell_type": "code",
   "execution_count": 6,
   "metadata": {},
   "outputs": [],
   "source": [
    "def translate(filepath,resultpath):\n",
    "    traditional_sentence = readtemp(filepath)\n",
    "    simplified_sentence = Traditional2Simplified(traditional_sentence)\n",
    "    writeFile(resultpath, simplified_sentence)\n",
    "    print(\"save: \" + resultpath)"
   ]
  },
  {
   "cell_type": "code",
   "execution_count": 7,
   "metadata": {
    "scrolled": true
   },
   "outputs": [
    {
     "name": "stderr",
     "output_type": "stream",
     "text": [
      "100%|██████████| 15/15 [00:00<00:00, 3163.76it/s]\n",
      "100%|██████████| 6/6 [00:00<00:00, 61.50it/s]\n",
      "0it [00:00, ?it/s]\n",
      "100%|██████████| 1/1 [00:00<00:00, 25.65it/s]\n",
      "100%|██████████| 4/4 [00:00<00:00, 3433.03it/s]\n",
      "100%|██████████| 4/4 [00:00<00:00, 113.37it/s]\n",
      "0it [00:00, ?it/s]\n",
      "  0%|          | 0/2 [00:00<?, ?it/s]"
     ]
    },
    {
     "name": "stdout",
     "output_type": "stream",
     "text": [
      "mkdir: /media/zhou/PROGRAM/WorkSpace/bugzilla-tw-5.0.4/template/zh-TW/result/flag\n",
      "mkdir: /media/zhou/PROGRAM/WorkSpace/bugzilla-tw-5.0.4/template/zh-TW/result/account\n",
      "mkdir: /media/zhou/PROGRAM/WorkSpace/bugzilla-tw-5.0.4/template/zh-TW/result/admin\n",
      "mkdir: /media/zhou/PROGRAM/WorkSpace/bugzilla-tw-5.0.4/template/zh-TW/result/attachment\n",
      "mkdir: /media/zhou/PROGRAM/WorkSpace/bugzilla-tw-5.0.4/template/zh-TW/result/bug\n",
      "mkdir: /media/zhou/PROGRAM/WorkSpace/bugzilla-tw-5.0.4/template/zh-TW/result/email\n",
      "mkdir: /media/zhou/PROGRAM/WorkSpace/bugzilla-tw-5.0.4/template/zh-TW/result/extensions\n",
      "mkdir: /media/zhou/PROGRAM/WorkSpace/bugzilla-tw-5.0.4/template/zh-TW/result/global\n",
      "mkdir: /media/zhou/PROGRAM/WorkSpace/bugzilla-tw-5.0.4/template/zh-TW/result/list\n",
      "mkdir: /media/zhou/PROGRAM/WorkSpace/bugzilla-tw-5.0.4/template/zh-TW/result/pages\n",
      "mkdir: /media/zhou/PROGRAM/WorkSpace/bugzilla-tw-5.0.4/template/zh-TW/result/reports\n",
      "mkdir: /media/zhou/PROGRAM/WorkSpace/bugzilla-tw-5.0.4/template/zh-TW/result/request\n",
      "mkdir: /media/zhou/PROGRAM/WorkSpace/bugzilla-tw-5.0.4/template/zh-TW/result/search\n",
      "mkdir: /media/zhou/PROGRAM/WorkSpace/bugzilla-tw-5.0.4/template/zh-TW/result/setup\n",
      "mkdir: /media/zhou/PROGRAM/WorkSpace/bugzilla-tw-5.0.4/template/zh-TW/result/whine\n",
      "save: /media/zhou/PROGRAM/WorkSpace/bugzilla-tw-5.0.4/template/zh-TW/result/config.js.tmpl\n",
      "save: /media/zhou/PROGRAM/WorkSpace/bugzilla-tw-5.0.4/template/zh-TW/result/config.rdf.tmpl\n",
      "save: /media/zhou/PROGRAM/WorkSpace/bugzilla-tw-5.0.4/template/zh-TW/result/filterexceptions.pl\n",
      "save: /media/zhou/PROGRAM/WorkSpace/bugzilla-tw-5.0.4/template/zh-TW/result/index.html.tmpl\n",
      "save: /media/zhou/PROGRAM/WorkSpace/bugzilla-tw-5.0.4/template/zh-TW/result/rest.html.tmpl\n",
      "save: /media/zhou/PROGRAM/WorkSpace/bugzilla-tw-5.0.4/template/zh-TW/result/welcome-admin.html.tmpl\n",
      "save: /media/zhou/PROGRAM/WorkSpace/bugzilla-tw-5.0.4/template/zh-TW/result/flag/list.html.tmpl\n",
      "mkdir: /media/zhou/PROGRAM/WorkSpace/bugzilla-tw-5.0.4/template/zh-TW/result/account/auth\n",
      "mkdir: /media/zhou/PROGRAM/WorkSpace/bugzilla-tw-5.0.4/template/zh-TW/result/account/email\n",
      "mkdir: /media/zhou/PROGRAM/WorkSpace/bugzilla-tw-5.0.4/template/zh-TW/result/account/password\n",
      "mkdir: /media/zhou/PROGRAM/WorkSpace/bugzilla-tw-5.0.4/template/zh-TW/result/account/prefs\n",
      "save: /media/zhou/PROGRAM/WorkSpace/bugzilla-tw-5.0.4/template/zh-TW/result/account/cancel-token.txt.tmpl\n",
      "save: /media/zhou/PROGRAM/WorkSpace/bugzilla-tw-5.0.4/template/zh-TW/result/account/create.html.tmpl\n",
      "save: /media/zhou/PROGRAM/WorkSpace/bugzilla-tw-5.0.4/template/zh-TW/result/account/created.html.tmpl\n",
      "save: /media/zhou/PROGRAM/WorkSpace/bugzilla-tw-5.0.4/template/zh-TW/result/account/profile-activity.html.tmpl\n",
      "save: /media/zhou/PROGRAM/WorkSpace/bugzilla-tw-5.0.4/template/zh-TW/result/account/auth/login-small.html.tmpl\n"
     ]
    },
    {
     "name": "stderr",
     "output_type": "stream",
     "text": [
      "100%|██████████| 2/2 [00:00<00:00, 60.47it/s]\n",
      "0it [00:00, ?it/s]\n",
      "100%|██████████| 5/5 [00:00<00:00, 130.66it/s]\n",
      "0it [00:00, ?it/s]\n",
      "100%|██████████| 2/2 [00:00<00:00, 165.84it/s]\n",
      "0it [00:00, ?it/s]\n",
      "100%|██████████| 7/7 [00:00<00:00, 51.70it/s]\n",
      "  0%|          | 0/15 [00:00<?, ?it/s]"
     ]
    },
    {
     "name": "stdout",
     "output_type": "stream",
     "text": [
      "save: /media/zhou/PROGRAM/WorkSpace/bugzilla-tw-5.0.4/template/zh-TW/result/account/auth/login.html.tmpl\n",
      "save: /media/zhou/PROGRAM/WorkSpace/bugzilla-tw-5.0.4/template/zh-TW/result/account/email/change-new.txt.tmpl\n",
      "save: /media/zhou/PROGRAM/WorkSpace/bugzilla-tw-5.0.4/template/zh-TW/result/account/email/change-old.txt.tmpl\n",
      "save: /media/zhou/PROGRAM/WorkSpace/bugzilla-tw-5.0.4/template/zh-TW/result/account/email/confirm-new.html.tmpl\n",
      "save: /media/zhou/PROGRAM/WorkSpace/bugzilla-tw-5.0.4/template/zh-TW/result/account/email/confirm.html.tmpl\n",
      "save: /media/zhou/PROGRAM/WorkSpace/bugzilla-tw-5.0.4/template/zh-TW/result/account/email/request-new.txt.tmpl\n",
      "save: /media/zhou/PROGRAM/WorkSpace/bugzilla-tw-5.0.4/template/zh-TW/result/account/password/forgotten-password.txt.tmpl\n",
      "save: /media/zhou/PROGRAM/WorkSpace/bugzilla-tw-5.0.4/template/zh-TW/result/account/password/set-forgotten-password.html.tmpl\n",
      "save: /media/zhou/PROGRAM/WorkSpace/bugzilla-tw-5.0.4/template/zh-TW/result/account/prefs/account.html.tmpl\n",
      "save: /media/zhou/PROGRAM/WorkSpace/bugzilla-tw-5.0.4/template/zh-TW/result/account/prefs/apikey.html.tmpl\n",
      "save: /media/zhou/PROGRAM/WorkSpace/bugzilla-tw-5.0.4/template/zh-TW/result/account/prefs/email.html.tmpl\n",
      "save: /media/zhou/PROGRAM/WorkSpace/bugzilla-tw-5.0.4/template/zh-TW/result/account/prefs/permissions.html.tmpl\n",
      "save: /media/zhou/PROGRAM/WorkSpace/bugzilla-tw-5.0.4/template/zh-TW/result/account/prefs/prefs.html.tmpl\n",
      "save: /media/zhou/PROGRAM/WorkSpace/bugzilla-tw-5.0.4/template/zh-TW/result/account/prefs/saved-searches.html.tmpl\n",
      "save: /media/zhou/PROGRAM/WorkSpace/bugzilla-tw-5.0.4/template/zh-TW/result/account/prefs/settings.html.tmpl\n",
      "mkdir: /media/zhou/PROGRAM/WorkSpace/bugzilla-tw-5.0.4/template/zh-TW/result/admin/classifications\n",
      "mkdir: /media/zhou/PROGRAM/WorkSpace/bugzilla-tw-5.0.4/template/zh-TW/result/admin/components\n",
      "mkdir: /media/zhou/PROGRAM/WorkSpace/bugzilla-tw-5.0.4/template/zh-TW/result/admin/custom_fields\n",
      "mkdir: /media/zhou/PROGRAM/WorkSpace/bugzilla-tw-5.0.4/template/zh-TW/result/admin/fieldvalues\n",
      "mkdir: /media/zhou/PROGRAM/WorkSpace/bugzilla-tw-5.0.4/template/zh-TW/result/admin/flag-type\n",
      "mkdir: /media/zhou/PROGRAM/WorkSpace/bugzilla-tw-5.0.4/template/zh-TW/result/admin/groups\n"
     ]
    },
    {
     "name": "stderr",
     "output_type": "stream",
     "text": [
      "100%|██████████| 15/15 [00:00<00:00, 3178.15it/s]\n",
      "100%|██████████| 4/4 [00:00<00:00, 49.87it/s]\n",
      "0it [00:00, ?it/s]\n",
      "100%|██████████| 7/7 [00:00<00:00, 154.09it/s]\n",
      "0it [00:00, ?it/s]\n",
      "  0%|          | 0/7 [00:00<?, ?it/s]"
     ]
    },
    {
     "name": "stdout",
     "output_type": "stream",
     "text": [
      "mkdir: /media/zhou/PROGRAM/WorkSpace/bugzilla-tw-5.0.4/template/zh-TW/result/admin/keywords\n",
      "mkdir: /media/zhou/PROGRAM/WorkSpace/bugzilla-tw-5.0.4/template/zh-TW/result/admin/milestones\n",
      "mkdir: /media/zhou/PROGRAM/WorkSpace/bugzilla-tw-5.0.4/template/zh-TW/result/admin/params\n",
      "mkdir: /media/zhou/PROGRAM/WorkSpace/bugzilla-tw-5.0.4/template/zh-TW/result/admin/products\n",
      "mkdir: /media/zhou/PROGRAM/WorkSpace/bugzilla-tw-5.0.4/template/zh-TW/result/admin/sanitycheck\n",
      "mkdir: /media/zhou/PROGRAM/WorkSpace/bugzilla-tw-5.0.4/template/zh-TW/result/admin/settings\n",
      "mkdir: /media/zhou/PROGRAM/WorkSpace/bugzilla-tw-5.0.4/template/zh-TW/result/admin/users\n",
      "mkdir: /media/zhou/PROGRAM/WorkSpace/bugzilla-tw-5.0.4/template/zh-TW/result/admin/versions\n",
      "mkdir: /media/zhou/PROGRAM/WorkSpace/bugzilla-tw-5.0.4/template/zh-TW/result/admin/workflow\n",
      "save: /media/zhou/PROGRAM/WorkSpace/bugzilla-tw-5.0.4/template/zh-TW/result/admin/admin.html.tmpl\n",
      "save: /media/zhou/PROGRAM/WorkSpace/bugzilla-tw-5.0.4/template/zh-TW/result/admin/confirm-action.html.tmpl\n",
      "save: /media/zhou/PROGRAM/WorkSpace/bugzilla-tw-5.0.4/template/zh-TW/result/admin/sudo.html.tmpl\n",
      "save: /media/zhou/PROGRAM/WorkSpace/bugzilla-tw-5.0.4/template/zh-TW/result/admin/table.html.tmpl\n",
      "save: /media/zhou/PROGRAM/WorkSpace/bugzilla-tw-5.0.4/template/zh-TW/result/admin/classifications/add.html.tmpl\n",
      "save: /media/zhou/PROGRAM/WorkSpace/bugzilla-tw-5.0.4/template/zh-TW/result/admin/classifications/del.html.tmpl\n",
      "save: /media/zhou/PROGRAM/WorkSpace/bugzilla-tw-5.0.4/template/zh-TW/result/admin/classifications/edit-common.html.tmpl\n",
      "save: /media/zhou/PROGRAM/WorkSpace/bugzilla-tw-5.0.4/template/zh-TW/result/admin/classifications/edit.html.tmpl\n",
      "save: /media/zhou/PROGRAM/WorkSpace/bugzilla-tw-5.0.4/template/zh-TW/result/admin/classifications/footer.html.tmpl\n",
      "save: /media/zhou/PROGRAM/WorkSpace/bugzilla-tw-5.0.4/template/zh-TW/result/admin/classifications/reclassify.html.tmpl\n",
      "save: /media/zhou/PROGRAM/WorkSpace/bugzilla-tw-5.0.4/template/zh-TW/result/admin/classifications/select.html.tmpl\n",
      "save: /media/zhou/PROGRAM/WorkSpace/bugzilla-tw-5.0.4/template/zh-TW/result/admin/components/confirm-delete.html.tmpl\n",
      "save: /media/zhou/PROGRAM/WorkSpace/bugzilla-tw-5.0.4/template/zh-TW/result/admin/components/create.html.tmpl\n",
      "save: /media/zhou/PROGRAM/WorkSpace/bugzilla-tw-5.0.4/template/zh-TW/result/admin/components/edit-common.html.tmpl\n",
      "save: /media/zhou/PROGRAM/WorkSpace/bugzilla-tw-5.0.4/template/zh-TW/result/admin/components/edit.html.tmpl\n",
      "save: /media/zhou/PROGRAM/WorkSpace/bugzilla-tw-5.0.4/template/zh-TW/result/admin/components/footer.html.tmpl\n",
      "save: /media/zhou/PROGRAM/WorkSpace/bugzilla-tw-5.0.4/template/zh-TW/result/admin/components/list.html.tmpl\n"
     ]
    },
    {
     "name": "stderr",
     "output_type": "stream",
     "text": [
      "100%|██████████| 7/7 [00:00<00:00, 102.51it/s]\n",
      "0it [00:00, ?it/s]\n",
      "100%|██████████| 6/6 [00:00<00:00, 86.21it/s]\n",
      "0it [00:00, ?it/s]\n",
      "100%|██████████| 6/6 [00:00<00:00, 79.60it/s]\n",
      "0it [00:00, ?it/s]\n",
      "  0%|          | 0/3 [00:00<?, ?it/s]"
     ]
    },
    {
     "name": "stdout",
     "output_type": "stream",
     "text": [
      "save: /media/zhou/PROGRAM/WorkSpace/bugzilla-tw-5.0.4/template/zh-TW/result/admin/components/select-product.html.tmpl\n",
      "save: /media/zhou/PROGRAM/WorkSpace/bugzilla-tw-5.0.4/template/zh-TW/result/admin/custom_fields/cf-js.js.tmpl\n",
      "save: /media/zhou/PROGRAM/WorkSpace/bugzilla-tw-5.0.4/template/zh-TW/result/admin/custom_fields/confirm-delete.html.tmpl\n",
      "save: /media/zhou/PROGRAM/WorkSpace/bugzilla-tw-5.0.4/template/zh-TW/result/admin/custom_fields/create.html.tmpl\n",
      "save: /media/zhou/PROGRAM/WorkSpace/bugzilla-tw-5.0.4/template/zh-TW/result/admin/custom_fields/edit-common.html.tmpl\n",
      "save: /media/zhou/PROGRAM/WorkSpace/bugzilla-tw-5.0.4/template/zh-TW/result/admin/custom_fields/edit.html.tmpl\n",
      "save: /media/zhou/PROGRAM/WorkSpace/bugzilla-tw-5.0.4/template/zh-TW/result/admin/custom_fields/list.html.tmpl\n",
      "save: /media/zhou/PROGRAM/WorkSpace/bugzilla-tw-5.0.4/template/zh-TW/result/admin/fieldvalues/confirm-delete.html.tmpl\n",
      "save: /media/zhou/PROGRAM/WorkSpace/bugzilla-tw-5.0.4/template/zh-TW/result/admin/fieldvalues/create.html.tmpl\n",
      "save: /media/zhou/PROGRAM/WorkSpace/bugzilla-tw-5.0.4/template/zh-TW/result/admin/fieldvalues/edit.html.tmpl\n",
      "save: /media/zhou/PROGRAM/WorkSpace/bugzilla-tw-5.0.4/template/zh-TW/result/admin/fieldvalues/footer.html.tmpl\n",
      "save: /media/zhou/PROGRAM/WorkSpace/bugzilla-tw-5.0.4/template/zh-TW/result/admin/fieldvalues/list.html.tmpl\n",
      "save: /media/zhou/PROGRAM/WorkSpace/bugzilla-tw-5.0.4/template/zh-TW/result/admin/fieldvalues/select-field.html.tmpl\n",
      "save: /media/zhou/PROGRAM/WorkSpace/bugzilla-tw-5.0.4/template/zh-TW/result/admin/flag-type/confirm-delete.html.tmpl\n"
     ]
    },
    {
     "name": "stderr",
     "output_type": "stream",
     "text": [
      "100%|██████████| 3/3 [00:00<00:00, 39.80it/s]\n",
      "0it [00:00, ?it/s]\n",
      "100%|██████████| 5/5 [00:00<00:00, 52.17it/s]\n",
      "0it [00:00, ?it/s]\n",
      "100%|██████████| 4/4 [00:00<00:00, 136.11it/s]\n",
      "0it [00:00, ?it/s]\n",
      "  0%|          | 0/6 [00:00<?, ?it/s]"
     ]
    },
    {
     "name": "stdout",
     "output_type": "stream",
     "text": [
      "save: /media/zhou/PROGRAM/WorkSpace/bugzilla-tw-5.0.4/template/zh-TW/result/admin/flag-type/edit.html.tmpl\n",
      "save: /media/zhou/PROGRAM/WorkSpace/bugzilla-tw-5.0.4/template/zh-TW/result/admin/flag-type/list.html.tmpl\n",
      "save: /media/zhou/PROGRAM/WorkSpace/bugzilla-tw-5.0.4/template/zh-TW/result/admin/groups/confirm-remove.html.tmpl\n",
      "save: /media/zhou/PROGRAM/WorkSpace/bugzilla-tw-5.0.4/template/zh-TW/result/admin/groups/create.html.tmpl\n",
      "save: /media/zhou/PROGRAM/WorkSpace/bugzilla-tw-5.0.4/template/zh-TW/result/admin/groups/delete.html.tmpl\n",
      "save: /media/zhou/PROGRAM/WorkSpace/bugzilla-tw-5.0.4/template/zh-TW/result/admin/groups/edit.html.tmpl\n",
      "save: /media/zhou/PROGRAM/WorkSpace/bugzilla-tw-5.0.4/template/zh-TW/result/admin/groups/list.html.tmpl\n",
      "save: /media/zhou/PROGRAM/WorkSpace/bugzilla-tw-5.0.4/template/zh-TW/result/admin/keywords/confirm-delete.html.tmpl\n",
      "save: /media/zhou/PROGRAM/WorkSpace/bugzilla-tw-5.0.4/template/zh-TW/result/admin/keywords/create.html.tmpl\n",
      "save: /media/zhou/PROGRAM/WorkSpace/bugzilla-tw-5.0.4/template/zh-TW/result/admin/keywords/edit.html.tmpl\n",
      "save: /media/zhou/PROGRAM/WorkSpace/bugzilla-tw-5.0.4/template/zh-TW/result/admin/keywords/list.html.tmpl\n",
      "save: /media/zhou/PROGRAM/WorkSpace/bugzilla-tw-5.0.4/template/zh-TW/result/admin/milestones/confirm-delete.html.tmpl\n",
      "save: /media/zhou/PROGRAM/WorkSpace/bugzilla-tw-5.0.4/template/zh-TW/result/admin/milestones/create.html.tmpl\n",
      "save: /media/zhou/PROGRAM/WorkSpace/bugzilla-tw-5.0.4/template/zh-TW/result/admin/milestones/edit.html.tmpl\n",
      "save: /media/zhou/PROGRAM/WorkSpace/bugzilla-tw-5.0.4/template/zh-TW/result/admin/milestones/footer.html.tmpl\n"
     ]
    },
    {
     "name": "stderr",
     "output_type": "stream",
     "text": [
      "100%|██████████| 6/6 [00:00<00:00, 109.02it/s]\n",
      "0it [00:00, ?it/s]\n",
      " 45%|████▌     | 9/20 [00:00<00:00, 87.87it/s]"
     ]
    },
    {
     "name": "stdout",
     "output_type": "stream",
     "text": [
      "save: /media/zhou/PROGRAM/WorkSpace/bugzilla-tw-5.0.4/template/zh-TW/result/admin/milestones/list.html.tmpl\n",
      "save: /media/zhou/PROGRAM/WorkSpace/bugzilla-tw-5.0.4/template/zh-TW/result/admin/milestones/select-product.html.tmpl\n",
      "save: /media/zhou/PROGRAM/WorkSpace/bugzilla-tw-5.0.4/template/zh-TW/result/admin/params/admin.html.tmpl\n",
      "save: /media/zhou/PROGRAM/WorkSpace/bugzilla-tw-5.0.4/template/zh-TW/result/admin/params/advanced.html.tmpl\n",
      "save: /media/zhou/PROGRAM/WorkSpace/bugzilla-tw-5.0.4/template/zh-TW/result/admin/params/attachment.html.tmpl\n",
      "save: /media/zhou/PROGRAM/WorkSpace/bugzilla-tw-5.0.4/template/zh-TW/result/admin/params/auth.html.tmpl\n",
      "save: /media/zhou/PROGRAM/WorkSpace/bugzilla-tw-5.0.4/template/zh-TW/result/admin/params/bugchange.html.tmpl\n",
      "save: /media/zhou/PROGRAM/WorkSpace/bugzilla-tw-5.0.4/template/zh-TW/result/admin/params/bugfields.html.tmpl\n",
      "save: /media/zhou/PROGRAM/WorkSpace/bugzilla-tw-5.0.4/template/zh-TW/result/admin/params/common.html.tmpl\n",
      "save: /media/zhou/PROGRAM/WorkSpace/bugzilla-tw-5.0.4/template/zh-TW/result/admin/params/core.html.tmpl\n",
      "save: /media/zhou/PROGRAM/WorkSpace/bugzilla-tw-5.0.4/template/zh-TW/result/admin/params/dependencygraph.html.tmpl\n",
      "save: /media/zhou/PROGRAM/WorkSpace/bugzilla-tw-5.0.4/template/zh-TW/result/admin/params/editparams.html.tmpl\n",
      "save: /media/zhou/PROGRAM/WorkSpace/bugzilla-tw-5.0.4/template/zh-TW/result/admin/params/general.html.tmpl\n",
      "save: /media/zhou/PROGRAM/WorkSpace/bugzilla-tw-5.0.4/template/zh-TW/result/admin/params/groupsecurity.html.tmpl\n",
      "save: /media/zhou/PROGRAM/WorkSpace/bugzilla-tw-5.0.4/template/zh-TW/result/admin/params/index.html.tmpl\n",
      "save: /media/zhou/PROGRAM/WorkSpace/bugzilla-tw-5.0.4/template/zh-TW/result/admin/params/ldap.html.tmpl\n",
      "save: /media/zhou/PROGRAM/WorkSpace/bugzilla-tw-5.0.4/template/zh-TW/result/admin/params/memcached.html.tmpl\n",
      "save: /media/zhou/PROGRAM/WorkSpace/bugzilla-tw-5.0.4/template/zh-TW/result/admin/params/mta.html.tmpl\n",
      "save: /media/zhou/PROGRAM/WorkSpace/bugzilla-tw-5.0.4/template/zh-TW/result/admin/params/query.html.tmpl\n",
      "save: /media/zhou/PROGRAM/WorkSpace/bugzilla-tw-5.0.4/template/zh-TW/result/admin/params/radius.html.tmpl\n",
      "save: /media/zhou/PROGRAM/WorkSpace/bugzilla-tw-5.0.4/template/zh-TW/result/admin/params/shadowdb.html.tmpl\n",
      "save: /media/zhou/PROGRAM/WorkSpace/bugzilla-tw-5.0.4/template/zh-TW/result/admin/params/usermatch.html.tmpl\n"
     ]
    },
    {
     "name": "stderr",
     "output_type": "stream",
     "text": [
      "100%|██████████| 20/20 [00:00<00:00, 104.15it/s]\n",
      "100%|██████████| 1/1 [00:00<00:00, 2511.56it/s]\n",
      "100%|██████████| 8/8 [00:00<00:00, 70.91it/s]\n",
      "0it [00:00, ?it/s]\n",
      "100%|██████████| 3/3 [00:00<00:00, 58.31it/s]\n",
      "0it [00:00, ?it/s]\n",
      "  0%|          | 0/2 [00:00<?, ?it/s]"
     ]
    },
    {
     "name": "stdout",
     "output_type": "stream",
     "text": [
      "mkdir: /media/zhou/PROGRAM/WorkSpace/bugzilla-tw-5.0.4/template/zh-TW/result/admin/products/groupcontrol\n",
      "save: /media/zhou/PROGRAM/WorkSpace/bugzilla-tw-5.0.4/template/zh-TW/result/admin/products/confirm-delete.html.tmpl\n",
      "save: /media/zhou/PROGRAM/WorkSpace/bugzilla-tw-5.0.4/template/zh-TW/result/admin/products/create.html.tmpl\n",
      "save: /media/zhou/PROGRAM/WorkSpace/bugzilla-tw-5.0.4/template/zh-TW/result/admin/products/edit-common.html.tmpl\n",
      "save: /media/zhou/PROGRAM/WorkSpace/bugzilla-tw-5.0.4/template/zh-TW/result/admin/products/edit.html.tmpl\n",
      "save: /media/zhou/PROGRAM/WorkSpace/bugzilla-tw-5.0.4/template/zh-TW/result/admin/products/footer.html.tmpl\n",
      "save: /media/zhou/PROGRAM/WorkSpace/bugzilla-tw-5.0.4/template/zh-TW/result/admin/products/list-classifications.html.tmpl\n",
      "save: /media/zhou/PROGRAM/WorkSpace/bugzilla-tw-5.0.4/template/zh-TW/result/admin/products/list.html.tmpl\n",
      "save: /media/zhou/PROGRAM/WorkSpace/bugzilla-tw-5.0.4/template/zh-TW/result/admin/products/updated.html.tmpl\n",
      "save: /media/zhou/PROGRAM/WorkSpace/bugzilla-tw-5.0.4/template/zh-TW/result/admin/products/groupcontrol/confirm-edit.html.tmpl\n",
      "save: /media/zhou/PROGRAM/WorkSpace/bugzilla-tw-5.0.4/template/zh-TW/result/admin/products/groupcontrol/edit.html.tmpl\n",
      "save: /media/zhou/PROGRAM/WorkSpace/bugzilla-tw-5.0.4/template/zh-TW/result/admin/products/groupcontrol/updated.html.tmpl\n",
      "save: /media/zhou/PROGRAM/WorkSpace/bugzilla-tw-5.0.4/template/zh-TW/result/admin/sanitycheck/list.html.tmpl\n"
     ]
    },
    {
     "name": "stderr",
     "output_type": "stream",
     "text": [
      "100%|██████████| 2/2 [00:00<00:00, 36.66it/s]\n",
      "0it [00:00, ?it/s]\n",
      "100%|██████████| 1/1 [00:00<00:00, 82.32it/s]\n",
      "0it [00:00, ?it/s]\n",
      "100%|██████████| 8/8 [00:00<00:00, 55.51it/s]\n",
      "0it [00:00, ?it/s]\n",
      "  0%|          | 0/6 [00:00<?, ?it/s]"
     ]
    },
    {
     "name": "stdout",
     "output_type": "stream",
     "text": [
      "save: /media/zhou/PROGRAM/WorkSpace/bugzilla-tw-5.0.4/template/zh-TW/result/admin/sanitycheck/messages.html.tmpl\n",
      "save: /media/zhou/PROGRAM/WorkSpace/bugzilla-tw-5.0.4/template/zh-TW/result/admin/settings/edit.html.tmpl\n",
      "save: /media/zhou/PROGRAM/WorkSpace/bugzilla-tw-5.0.4/template/zh-TW/result/admin/users/confirm-delete.html.tmpl\n",
      "save: /media/zhou/PROGRAM/WorkSpace/bugzilla-tw-5.0.4/template/zh-TW/result/admin/users/create.html.tmpl\n",
      "save: /media/zhou/PROGRAM/WorkSpace/bugzilla-tw-5.0.4/template/zh-TW/result/admin/users/edit.html.tmpl\n",
      "save: /media/zhou/PROGRAM/WorkSpace/bugzilla-tw-5.0.4/template/zh-TW/result/admin/users/list.html.tmpl\n",
      "save: /media/zhou/PROGRAM/WorkSpace/bugzilla-tw-5.0.4/template/zh-TW/result/admin/users/listselectvars.html.tmpl\n",
      "save: /media/zhou/PROGRAM/WorkSpace/bugzilla-tw-5.0.4/template/zh-TW/result/admin/users/responsibilities.html.tmpl\n",
      "save: /media/zhou/PROGRAM/WorkSpace/bugzilla-tw-5.0.4/template/zh-TW/result/admin/users/search.html.tmpl\n",
      "save: /media/zhou/PROGRAM/WorkSpace/bugzilla-tw-5.0.4/template/zh-TW/result/admin/users/userdata.html.tmpl\n",
      "save: /media/zhou/PROGRAM/WorkSpace/bugzilla-tw-5.0.4/template/zh-TW/result/admin/versions/confirm-delete.html.tmpl\n",
      "save: /media/zhou/PROGRAM/WorkSpace/bugzilla-tw-5.0.4/template/zh-TW/result/admin/versions/create.html.tmpl\n",
      "save: /media/zhou/PROGRAM/WorkSpace/bugzilla-tw-5.0.4/template/zh-TW/result/admin/versions/edit.html.tmpl\n",
      "save: /media/zhou/PROGRAM/WorkSpace/bugzilla-tw-5.0.4/template/zh-TW/result/admin/versions/footer.html.tmpl\n"
     ]
    },
    {
     "name": "stderr",
     "output_type": "stream",
     "text": [
      "100%|██████████| 6/6 [00:00<00:00, 116.34it/s]\n",
      "0it [00:00, ?it/s]\n",
      "100%|██████████| 2/2 [00:00<00:00, 69.74it/s]\n",
      "0it [00:00, ?it/s]\n",
      " 57%|█████▋    | 8/14 [00:00<00:00, 77.96it/s]"
     ]
    },
    {
     "name": "stdout",
     "output_type": "stream",
     "text": [
      "save: /media/zhou/PROGRAM/WorkSpace/bugzilla-tw-5.0.4/template/zh-TW/result/admin/versions/list.html.tmpl\n",
      "save: /media/zhou/PROGRAM/WorkSpace/bugzilla-tw-5.0.4/template/zh-TW/result/admin/versions/select-product.html.tmpl\n",
      "save: /media/zhou/PROGRAM/WorkSpace/bugzilla-tw-5.0.4/template/zh-TW/result/admin/workflow/comment.html.tmpl\n",
      "save: /media/zhou/PROGRAM/WorkSpace/bugzilla-tw-5.0.4/template/zh-TW/result/admin/workflow/edit.html.tmpl\n",
      "save: /media/zhou/PROGRAM/WorkSpace/bugzilla-tw-5.0.4/template/zh-TW/result/attachment/choose.html.tmpl\n",
      "save: /media/zhou/PROGRAM/WorkSpace/bugzilla-tw-5.0.4/template/zh-TW/result/attachment/confirm-delete.html.tmpl\n",
      "save: /media/zhou/PROGRAM/WorkSpace/bugzilla-tw-5.0.4/template/zh-TW/result/attachment/create.html.tmpl\n",
      "save: /media/zhou/PROGRAM/WorkSpace/bugzilla-tw-5.0.4/template/zh-TW/result/attachment/created.html.tmpl\n",
      "save: /media/zhou/PROGRAM/WorkSpace/bugzilla-tw-5.0.4/template/zh-TW/result/attachment/createformcontents.html.tmpl\n",
      "save: /media/zhou/PROGRAM/WorkSpace/bugzilla-tw-5.0.4/template/zh-TW/result/attachment/delete_reason.txt.tmpl\n",
      "save: /media/zhou/PROGRAM/WorkSpace/bugzilla-tw-5.0.4/template/zh-TW/result/attachment/diff-file.html.tmpl\n",
      "save: /media/zhou/PROGRAM/WorkSpace/bugzilla-tw-5.0.4/template/zh-TW/result/attachment/diff-footer.html.tmpl\n",
      "save: /media/zhou/PROGRAM/WorkSpace/bugzilla-tw-5.0.4/template/zh-TW/result/attachment/diff-header.html.tmpl\n"
     ]
    },
    {
     "name": "stderr",
     "output_type": "stream",
     "text": [
      "100%|██████████| 14/14 [00:00<00:00, 56.56it/s]\n",
      "100%|██████████| 3/3 [00:00<00:00, 3387.06it/s]\n",
      " 30%|███       | 6/20 [00:00<00:00, 58.21it/s]"
     ]
    },
    {
     "name": "stdout",
     "output_type": "stream",
     "text": [
      "save: /media/zhou/PROGRAM/WorkSpace/bugzilla-tw-5.0.4/template/zh-TW/result/attachment/edit.html.tmpl\n",
      "save: /media/zhou/PROGRAM/WorkSpace/bugzilla-tw-5.0.4/template/zh-TW/result/attachment/list.html.tmpl\n",
      "save: /media/zhou/PROGRAM/WorkSpace/bugzilla-tw-5.0.4/template/zh-TW/result/attachment/midair.html.tmpl\n",
      "save: /media/zhou/PROGRAM/WorkSpace/bugzilla-tw-5.0.4/template/zh-TW/result/attachment/show-multiple.html.tmpl\n",
      "save: /media/zhou/PROGRAM/WorkSpace/bugzilla-tw-5.0.4/template/zh-TW/result/attachment/updated.html.tmpl\n",
      "mkdir: /media/zhou/PROGRAM/WorkSpace/bugzilla-tw-5.0.4/template/zh-TW/result/bug/activity\n",
      "mkdir: /media/zhou/PROGRAM/WorkSpace/bugzilla-tw-5.0.4/template/zh-TW/result/bug/create\n",
      "mkdir: /media/zhou/PROGRAM/WorkSpace/bugzilla-tw-5.0.4/template/zh-TW/result/bug/process\n",
      "save: /media/zhou/PROGRAM/WorkSpace/bugzilla-tw-5.0.4/template/zh-TW/result/bug/field-label.html.tmpl\n",
      "save: /media/zhou/PROGRAM/WorkSpace/bugzilla-tw-5.0.4/template/zh-TW/result/bug/choose.html.tmpl\n",
      "save: /media/zhou/PROGRAM/WorkSpace/bugzilla-tw-5.0.4/template/zh-TW/result/bug/comment.html.tmpl\n",
      "save: /media/zhou/PROGRAM/WorkSpace/bugzilla-tw-5.0.4/template/zh-TW/result/bug/comments.html.tmpl\n",
      "save: /media/zhou/PROGRAM/WorkSpace/bugzilla-tw-5.0.4/template/zh-TW/result/bug/dependency-graph.html.tmpl\n",
      "save: /media/zhou/PROGRAM/WorkSpace/bugzilla-tw-5.0.4/template/zh-TW/result/bug/dependency-tree.html.tmpl\n"
     ]
    },
    {
     "name": "stderr",
     "output_type": "stream",
     "text": [
      " 60%|██████    | 12/20 [00:00<00:00, 22.90it/s]"
     ]
    },
    {
     "name": "stdout",
     "output_type": "stream",
     "text": [
      "save: /media/zhou/PROGRAM/WorkSpace/bugzilla-tw-5.0.4/template/zh-TW/result/bug/edit.html.tmpl\n",
      "save: /media/zhou/PROGRAM/WorkSpace/bugzilla-tw-5.0.4/template/zh-TW/result/bug/field-events.js.tmpl\n",
      "save: /media/zhou/PROGRAM/WorkSpace/bugzilla-tw-5.0.4/template/zh-TW/result/bug/field-help.none.tmpl\n",
      "save: /media/zhou/PROGRAM/WorkSpace/bugzilla-tw-5.0.4/template/zh-TW/result/bug/field.html.tmpl\n",
      "save: /media/zhou/PROGRAM/WorkSpace/bugzilla-tw-5.0.4/template/zh-TW/result/bug/format_comment.txt.tmpl\n",
      "save: /media/zhou/PROGRAM/WorkSpace/bugzilla-tw-5.0.4/template/zh-TW/result/bug/knob.html.tmpl\n",
      "save: /media/zhou/PROGRAM/WorkSpace/bugzilla-tw-5.0.4/template/zh-TW/result/bug/link.html.tmpl\n",
      "save: /media/zhou/PROGRAM/WorkSpace/bugzilla-tw-5.0.4/template/zh-TW/result/bug/navigate.html.tmpl\n",
      "save: /media/zhou/PROGRAM/WorkSpace/bugzilla-tw-5.0.4/template/zh-TW/result/bug/show-header.html.tmpl\n"
     ]
    },
    {
     "name": "stderr",
     "output_type": "stream",
     "text": [
      "100%|██████████| 20/20 [00:00<00:00, 29.90it/s]\n",
      "0it [00:00, ?it/s]\n",
      "100%|██████████| 2/2 [00:00<00:00, 72.72it/s]\n",
      "0it [00:00, ?it/s]\n",
      "  0%|          | 0/7 [00:00<?, ?it/s]"
     ]
    },
    {
     "name": "stdout",
     "output_type": "stream",
     "text": [
      "save: /media/zhou/PROGRAM/WorkSpace/bugzilla-tw-5.0.4/template/zh-TW/result/bug/show-multiple.html.tmpl\n",
      "save: /media/zhou/PROGRAM/WorkSpace/bugzilla-tw-5.0.4/template/zh-TW/result/bug/show.html.tmpl\n",
      "save: /media/zhou/PROGRAM/WorkSpace/bugzilla-tw-5.0.4/template/zh-TW/result/bug/show.xml.tmpl\n",
      "save: /media/zhou/PROGRAM/WorkSpace/bugzilla-tw-5.0.4/template/zh-TW/result/bug/summarize-time.html.tmpl\n",
      "save: /media/zhou/PROGRAM/WorkSpace/bugzilla-tw-5.0.4/template/zh-TW/result/bug/time.html.tmpl\n",
      "save: /media/zhou/PROGRAM/WorkSpace/bugzilla-tw-5.0.4/template/zh-TW/result/bug/activity/show.html.tmpl\n",
      "save: /media/zhou/PROGRAM/WorkSpace/bugzilla-tw-5.0.4/template/zh-TW/result/bug/activity/table.html.tmpl\n",
      "save: /media/zhou/PROGRAM/WorkSpace/bugzilla-tw-5.0.4/template/zh-TW/result/bug/create/comment-guided.txt.tmpl\n",
      "save: /media/zhou/PROGRAM/WorkSpace/bugzilla-tw-5.0.4/template/zh-TW/result/bug/create/comment.txt.tmpl\n",
      "save: /media/zhou/PROGRAM/WorkSpace/bugzilla-tw-5.0.4/template/zh-TW/result/bug/create/create-guided.html.tmpl\n"
     ]
    },
    {
     "name": "stderr",
     "output_type": "stream",
     "text": [
      "100%|██████████| 7/7 [00:00<00:00, 35.61it/s]\n",
      "0it [00:00, ?it/s]\n",
      "100%|██████████| 6/6 [00:00<00:00, 82.20it/s]\n",
      "0it [00:00, ?it/s]\n",
      "100%|██████████| 12/12 [00:00<00:00, 139.86it/s]\n",
      "0it [00:00, ?it/s]\n",
      "  0%|          | 0/9 [00:00<?, ?it/s]"
     ]
    },
    {
     "name": "stdout",
     "output_type": "stream",
     "text": [
      "save: /media/zhou/PROGRAM/WorkSpace/bugzilla-tw-5.0.4/template/zh-TW/result/bug/create/create.html.tmpl\n",
      "save: /media/zhou/PROGRAM/WorkSpace/bugzilla-tw-5.0.4/template/zh-TW/result/bug/create/created.html.tmpl\n",
      "save: /media/zhou/PROGRAM/WorkSpace/bugzilla-tw-5.0.4/template/zh-TW/result/bug/create/make-template.html.tmpl\n",
      "save: /media/zhou/PROGRAM/WorkSpace/bugzilla-tw-5.0.4/template/zh-TW/result/bug/create/user-message.html.tmpl\n",
      "save: /media/zhou/PROGRAM/WorkSpace/bugzilla-tw-5.0.4/template/zh-TW/result/bug/process/bugmail.html.tmpl\n",
      "save: /media/zhou/PROGRAM/WorkSpace/bugzilla-tw-5.0.4/template/zh-TW/result/bug/process/confirm-duplicate.html.tmpl\n",
      "save: /media/zhou/PROGRAM/WorkSpace/bugzilla-tw-5.0.4/template/zh-TW/result/bug/process/header.html.tmpl\n",
      "save: /media/zhou/PROGRAM/WorkSpace/bugzilla-tw-5.0.4/template/zh-TW/result/bug/process/midair.html.tmpl\n",
      "save: /media/zhou/PROGRAM/WorkSpace/bugzilla-tw-5.0.4/template/zh-TW/result/bug/process/results.html.tmpl\n",
      "save: /media/zhou/PROGRAM/WorkSpace/bugzilla-tw-5.0.4/template/zh-TW/result/bug/process/verify-new-product.html.tmpl\n",
      "save: /media/zhou/PROGRAM/WorkSpace/bugzilla-tw-5.0.4/template/zh-TW/result/email/bugmail-common.txt.tmpl\n",
      "save: /media/zhou/PROGRAM/WorkSpace/bugzilla-tw-5.0.4/template/zh-TW/result/email/bugmail-header.txt.tmpl\n",
      "save: /media/zhou/PROGRAM/WorkSpace/bugzilla-tw-5.0.4/template/zh-TW/result/email/bugmail.html.tmpl\n",
      "save: /media/zhou/PROGRAM/WorkSpace/bugzilla-tw-5.0.4/template/zh-TW/result/email/bugmail.txt.tmpl\n",
      "save: /media/zhou/PROGRAM/WorkSpace/bugzilla-tw-5.0.4/template/zh-TW/result/email/flagmail.txt.tmpl\n",
      "save: /media/zhou/PROGRAM/WorkSpace/bugzilla-tw-5.0.4/template/zh-TW/result/email/header-common.txt.tmpl\n",
      "save: /media/zhou/PROGRAM/WorkSpace/bugzilla-tw-5.0.4/template/zh-TW/result/email/lockout.txt.tmpl\n",
      "save: /media/zhou/PROGRAM/WorkSpace/bugzilla-tw-5.0.4/template/zh-TW/result/email/new-api-key.txt.tmpl\n",
      "save: /media/zhou/PROGRAM/WorkSpace/bugzilla-tw-5.0.4/template/zh-TW/result/email/new-user-details.txt.tmpl\n",
      "save: /media/zhou/PROGRAM/WorkSpace/bugzilla-tw-5.0.4/template/zh-TW/result/email/sanitycheck.txt.tmpl\n",
      "save: /media/zhou/PROGRAM/WorkSpace/bugzilla-tw-5.0.4/template/zh-TW/result/email/sudo.txt.tmpl\n",
      "save: /media/zhou/PROGRAM/WorkSpace/bugzilla-tw-5.0.4/template/zh-TW/result/email/whine.txt.tmpl\n",
      "save: /media/zhou/PROGRAM/WorkSpace/bugzilla-tw-5.0.4/template/zh-TW/result/extensions/config.pm.tmpl\n",
      "save: /media/zhou/PROGRAM/WorkSpace/bugzilla-tw-5.0.4/template/zh-TW/result/extensions/extension.pm.tmpl\n",
      "save: /media/zhou/PROGRAM/WorkSpace/bugzilla-tw-5.0.4/template/zh-TW/result/extensions/hook-readme.txt.tmpl\n"
     ]
    },
    {
     "name": "stderr",
     "output_type": "stream",
     "text": [
      "100%|██████████| 9/9 [00:00<00:00, 247.26it/s]\n",
      "0it [00:00, ?it/s]\n",
      " 23%|██▎       | 7/30 [00:00<00:00, 51.13it/s]"
     ]
    },
    {
     "name": "stdout",
     "output_type": "stream",
     "text": [
      "save: /media/zhou/PROGRAM/WorkSpace/bugzilla-tw-5.0.4/template/zh-TW/result/extensions/index-admin.rst.tmpl\n",
      "save: /media/zhou/PROGRAM/WorkSpace/bugzilla-tw-5.0.4/template/zh-TW/result/extensions/index-user.rst.tmpl\n",
      "save: /media/zhou/PROGRAM/WorkSpace/bugzilla-tw-5.0.4/template/zh-TW/result/extensions/license.txt.tmpl\n",
      "save: /media/zhou/PROGRAM/WorkSpace/bugzilla-tw-5.0.4/template/zh-TW/result/extensions/name-readme.txt.tmpl\n",
      "save: /media/zhou/PROGRAM/WorkSpace/bugzilla-tw-5.0.4/template/zh-TW/result/extensions/util.pm.tmpl\n",
      "save: /media/zhou/PROGRAM/WorkSpace/bugzilla-tw-5.0.4/template/zh-TW/result/extensions/web-readme.txt.tmpl\n",
      "save: /media/zhou/PROGRAM/WorkSpace/bugzilla-tw-5.0.4/template/zh-TW/result/global/docslinks.html.tmpl\n",
      "save: /media/zhou/PROGRAM/WorkSpace/bugzilla-tw-5.0.4/template/zh-TW/result/global/product-select.html.tmpl\n",
      "save: /media/zhou/PROGRAM/WorkSpace/bugzilla-tw-5.0.4/template/zh-TW/result/global/banner.html.tmpl\n",
      "save: /media/zhou/PROGRAM/WorkSpace/bugzilla-tw-5.0.4/template/zh-TW/result/global/calendar.js.tmpl\n",
      "save: /media/zhou/PROGRAM/WorkSpace/bugzilla-tw-5.0.4/template/zh-TW/result/global/choose-classification.html.tmpl\n",
      "save: /media/zhou/PROGRAM/WorkSpace/bugzilla-tw-5.0.4/template/zh-TW/result/global/choose-product.html.tmpl\n",
      "save: /media/zhou/PROGRAM/WorkSpace/bugzilla-tw-5.0.4/template/zh-TW/result/global/code-error.html.tmpl\n",
      "save: /media/zhou/PROGRAM/WorkSpace/bugzilla-tw-5.0.4/template/zh-TW/result/global/common-links.html.tmpl\n",
      "save: /media/zhou/PROGRAM/WorkSpace/bugzilla-tw-5.0.4/template/zh-TW/result/global/confirm-action.html.tmpl\n"
     ]
    },
    {
     "name": "stderr",
     "output_type": "stream",
     "text": [
      "\r",
      " 43%|████▎     | 13/30 [00:00<00:00, 48.06it/s]"
     ]
    },
    {
     "name": "stdout",
     "output_type": "stream",
     "text": [
      "save: /media/zhou/PROGRAM/WorkSpace/bugzilla-tw-5.0.4/template/zh-TW/result/global/confirm-user-match.html.tmpl\n",
      "save: /media/zhou/PROGRAM/WorkSpace/bugzilla-tw-5.0.4/template/zh-TW/result/global/field-descs.none.tmpl\n",
      "save: /media/zhou/PROGRAM/WorkSpace/bugzilla-tw-5.0.4/template/zh-TW/result/global/footer.html.tmpl\n",
      "save: /media/zhou/PROGRAM/WorkSpace/bugzilla-tw-5.0.4/template/zh-TW/result/global/header.html.tmpl\n",
      "save: /media/zhou/PROGRAM/WorkSpace/bugzilla-tw-5.0.4/template/zh-TW/result/global/hidden-fields.html.tmpl\n",
      "save: /media/zhou/PROGRAM/WorkSpace/bugzilla-tw-5.0.4/template/zh-TW/result/global/js-products.html.tmpl\n",
      "save: /media/zhou/PROGRAM/WorkSpace/bugzilla-tw-5.0.4/template/zh-TW/result/global/message.html.tmpl\n",
      "save: /media/zhou/PROGRAM/WorkSpace/bugzilla-tw-5.0.4/template/zh-TW/result/global/message.txt.tmpl\n"
     ]
    },
    {
     "name": "stderr",
     "output_type": "stream",
     "text": [
      "\r",
      " 60%|██████    | 18/30 [00:00<00:00, 37.35it/s]"
     ]
    },
    {
     "name": "stdout",
     "output_type": "stream",
     "text": [
      "save: /media/zhou/PROGRAM/WorkSpace/bugzilla-tw-5.0.4/template/zh-TW/result/global/messages.html.tmpl\n",
      "save: /media/zhou/PROGRAM/WorkSpace/bugzilla-tw-5.0.4/template/zh-TW/result/global/reason-descs.none.tmpl\n",
      "save: /media/zhou/PROGRAM/WorkSpace/bugzilla-tw-5.0.4/template/zh-TW/result/global/select-menu.html.tmpl\n",
      "save: /media/zhou/PROGRAM/WorkSpace/bugzilla-tw-5.0.4/template/zh-TW/result/global/setting-descs.none.tmpl\n",
      "save: /media/zhou/PROGRAM/WorkSpace/bugzilla-tw-5.0.4/template/zh-TW/result/global/tabs.html.tmpl\n",
      "save: /media/zhou/PROGRAM/WorkSpace/bugzilla-tw-5.0.4/template/zh-TW/result/global/textarea.html.tmpl\n",
      "save: /media/zhou/PROGRAM/WorkSpace/bugzilla-tw-5.0.4/template/zh-TW/result/global/useful-links.html.tmpl\n"
     ]
    },
    {
     "name": "stderr",
     "output_type": "stream",
     "text": [
      "100%|██████████| 30/30 [00:01<00:00, 28.79it/s]\n",
      "0it [00:00, ?it/s]\n",
      " 55%|█████▍    | 6/11 [00:00<00:00, 38.94it/s]"
     ]
    },
    {
     "name": "stdout",
     "output_type": "stream",
     "text": [
      "save: /media/zhou/PROGRAM/WorkSpace/bugzilla-tw-5.0.4/template/zh-TW/result/global/user-error.html.tmpl\n",
      "save: /media/zhou/PROGRAM/WorkSpace/bugzilla-tw-5.0.4/template/zh-TW/result/global/user.html.tmpl\n",
      "save: /media/zhou/PROGRAM/WorkSpace/bugzilla-tw-5.0.4/template/zh-TW/result/global/userselect.html.tmpl\n",
      "save: /media/zhou/PROGRAM/WorkSpace/bugzilla-tw-5.0.4/template/zh-TW/result/global/value-descs.js.tmpl\n",
      "save: /media/zhou/PROGRAM/WorkSpace/bugzilla-tw-5.0.4/template/zh-TW/result/global/value-descs.none.tmpl\n",
      "save: /media/zhou/PROGRAM/WorkSpace/bugzilla-tw-5.0.4/template/zh-TW/result/global/variables.none.tmpl\n",
      "save: /media/zhou/PROGRAM/WorkSpace/bugzilla-tw-5.0.4/template/zh-TW/result/list/change-columns.html.tmpl\n",
      "save: /media/zhou/PROGRAM/WorkSpace/bugzilla-tw-5.0.4/template/zh-TW/result/list/edit-multiple.html.tmpl\n",
      "save: /media/zhou/PROGRAM/WorkSpace/bugzilla-tw-5.0.4/template/zh-TW/result/list/list-simple.html.tmpl\n",
      "save: /media/zhou/PROGRAM/WorkSpace/bugzilla-tw-5.0.4/template/zh-TW/result/list/list.atom.tmpl\n",
      "save: /media/zhou/PROGRAM/WorkSpace/bugzilla-tw-5.0.4/template/zh-TW/result/list/list.csv.tmpl\n",
      "save: /media/zhou/PROGRAM/WorkSpace/bugzilla-tw-5.0.4/template/zh-TW/result/list/list.html.tmpl\n"
     ]
    },
    {
     "name": "stderr",
     "output_type": "stream",
     "text": [
      "100%|██████████| 11/11 [00:00<00:00, 43.49it/s]\n",
      "0it [00:00, ?it/s]\n",
      "  0%|          | 0/8 [00:00<?, ?it/s]"
     ]
    },
    {
     "name": "stdout",
     "output_type": "stream",
     "text": [
      "save: /media/zhou/PROGRAM/WorkSpace/bugzilla-tw-5.0.4/template/zh-TW/result/list/list.ics.tmpl\n",
      "save: /media/zhou/PROGRAM/WorkSpace/bugzilla-tw-5.0.4/template/zh-TW/result/list/list.rdf.tmpl\n",
      "save: /media/zhou/PROGRAM/WorkSpace/bugzilla-tw-5.0.4/template/zh-TW/result/list/quips.html.tmpl\n",
      "save: /media/zhou/PROGRAM/WorkSpace/bugzilla-tw-5.0.4/template/zh-TW/result/list/server-push.html.tmpl\n",
      "save: /media/zhou/PROGRAM/WorkSpace/bugzilla-tw-5.0.4/template/zh-TW/result/list/table.html.tmpl\n",
      "save: /media/zhou/PROGRAM/WorkSpace/bugzilla-tw-5.0.4/template/zh-TW/result/pages/bug-writing.html.tmpl\n",
      "save: /media/zhou/PROGRAM/WorkSpace/bugzilla-tw-5.0.4/template/zh-TW/result/pages/bugzilla.dtd.tmpl\n",
      "save: /media/zhou/PROGRAM/WorkSpace/bugzilla-tw-5.0.4/template/zh-TW/result/pages/fields.html.tmpl\n",
      "save: /media/zhou/PROGRAM/WorkSpace/bugzilla-tw-5.0.4/template/zh-TW/result/pages/linked.html.tmpl\n",
      "save: /media/zhou/PROGRAM/WorkSpace/bugzilla-tw-5.0.4/template/zh-TW/result/pages/linkify.html.tmpl\n"
     ]
    },
    {
     "name": "stderr",
     "output_type": "stream",
     "text": [
      "100%|██████████| 8/8 [00:00<00:00, 28.39it/s]\n",
      "0it [00:00, ?it/s]\n",
      "  0%|          | 0/23 [00:00<?, ?it/s]"
     ]
    },
    {
     "name": "stdout",
     "output_type": "stream",
     "text": [
      "save: /media/zhou/PROGRAM/WorkSpace/bugzilla-tw-5.0.4/template/zh-TW/result/pages/quicksearch.html.tmpl\n",
      "save: /media/zhou/PROGRAM/WorkSpace/bugzilla-tw-5.0.4/template/zh-TW/result/pages/release-notes.html.tmpl\n",
      "save: /media/zhou/PROGRAM/WorkSpace/bugzilla-tw-5.0.4/template/zh-TW/result/pages/sudo.html.tmpl\n",
      "save: /media/zhou/PROGRAM/WorkSpace/bugzilla-tw-5.0.4/template/zh-TW/result/reports/chart.csv.tmpl\n",
      "save: /media/zhou/PROGRAM/WorkSpace/bugzilla-tw-5.0.4/template/zh-TW/result/reports/chart.html.tmpl\n",
      "save: /media/zhou/PROGRAM/WorkSpace/bugzilla-tw-5.0.4/template/zh-TW/result/reports/chart.png.tmpl\n",
      "save: /media/zhou/PROGRAM/WorkSpace/bugzilla-tw-5.0.4/template/zh-TW/result/reports/components.html.tmpl\n"
     ]
    },
    {
     "name": "stderr",
     "output_type": "stream",
     "text": [
      " 83%|████████▎ | 19/23 [00:00<00:00, 79.85it/s]"
     ]
    },
    {
     "name": "stdout",
     "output_type": "stream",
     "text": [
      "save: /media/zhou/PROGRAM/WorkSpace/bugzilla-tw-5.0.4/template/zh-TW/result/reports/create-chart.html.tmpl\n",
      "save: /media/zhou/PROGRAM/WorkSpace/bugzilla-tw-5.0.4/template/zh-TW/result/reports/delete-series.html.tmpl\n",
      "save: /media/zhou/PROGRAM/WorkSpace/bugzilla-tw-5.0.4/template/zh-TW/result/reports/duplicates-simple.html.tmpl\n",
      "save: /media/zhou/PROGRAM/WorkSpace/bugzilla-tw-5.0.4/template/zh-TW/result/reports/duplicates-table.html.tmpl\n",
      "save: /media/zhou/PROGRAM/WorkSpace/bugzilla-tw-5.0.4/template/zh-TW/result/reports/duplicates.html.tmpl\n",
      "save: /media/zhou/PROGRAM/WorkSpace/bugzilla-tw-5.0.4/template/zh-TW/result/reports/edit-series.html.tmpl\n",
      "save: /media/zhou/PROGRAM/WorkSpace/bugzilla-tw-5.0.4/template/zh-TW/result/reports/keywords.html.tmpl\n",
      "save: /media/zhou/PROGRAM/WorkSpace/bugzilla-tw-5.0.4/template/zh-TW/result/reports/menu.html.tmpl\n",
      "save: /media/zhou/PROGRAM/WorkSpace/bugzilla-tw-5.0.4/template/zh-TW/result/reports/old-charts.html.tmpl\n",
      "save: /media/zhou/PROGRAM/WorkSpace/bugzilla-tw-5.0.4/template/zh-TW/result/reports/report-bar.png.tmpl\n",
      "save: /media/zhou/PROGRAM/WorkSpace/bugzilla-tw-5.0.4/template/zh-TW/result/reports/report-line.png.tmpl\n",
      "save: /media/zhou/PROGRAM/WorkSpace/bugzilla-tw-5.0.4/template/zh-TW/result/reports/report-pie.png.tmpl\n",
      "save: /media/zhou/PROGRAM/WorkSpace/bugzilla-tw-5.0.4/template/zh-TW/result/reports/report-simple.html.tmpl\n",
      "save: /media/zhou/PROGRAM/WorkSpace/bugzilla-tw-5.0.4/template/zh-TW/result/reports/report-table.csv.tmpl\n",
      "save: /media/zhou/PROGRAM/WorkSpace/bugzilla-tw-5.0.4/template/zh-TW/result/reports/report-table.html.tmpl\n",
      "save: /media/zhou/PROGRAM/WorkSpace/bugzilla-tw-5.0.4/template/zh-TW/result/reports/report.csv.tmpl\n",
      "save: /media/zhou/PROGRAM/WorkSpace/bugzilla-tw-5.0.4/template/zh-TW/result/reports/report.html.tmpl\n"
     ]
    },
    {
     "name": "stderr",
     "output_type": "stream",
     "text": [
      "100%|██████████| 23/23 [00:00<00:00, 77.94it/s]\n",
      "0it [00:00, ?it/s]\n",
      "100%|██████████| 2/2 [00:00<00:00, 45.46it/s]\n",
      "0it [00:00, ?it/s]\n",
      " 23%|██▎       | 3/13 [00:00<00:00, 22.88it/s]"
     ]
    },
    {
     "name": "stdout",
     "output_type": "stream",
     "text": [
      "save: /media/zhou/PROGRAM/WorkSpace/bugzilla-tw-5.0.4/template/zh-TW/result/reports/series-common.html.tmpl\n",
      "save: /media/zhou/PROGRAM/WorkSpace/bugzilla-tw-5.0.4/template/zh-TW/result/reports/series.html.tmpl\n",
      "save: /media/zhou/PROGRAM/WorkSpace/bugzilla-tw-5.0.4/template/zh-TW/result/request/queue.csv.tmpl\n",
      "save: /media/zhou/PROGRAM/WorkSpace/bugzilla-tw-5.0.4/template/zh-TW/result/request/queue.html.tmpl\n",
      "save: /media/zhou/PROGRAM/WorkSpace/bugzilla-tw-5.0.4/template/zh-TW/result/search/boolean-charts.html.tmpl\n",
      "save: /media/zhou/PROGRAM/WorkSpace/bugzilla-tw-5.0.4/template/zh-TW/result/search/field.html.tmpl\n",
      "save: /media/zhou/PROGRAM/WorkSpace/bugzilla-tw-5.0.4/template/zh-TW/result/search/form.html.tmpl\n"
     ]
    },
    {
     "name": "stderr",
     "output_type": "stream",
     "text": [
      "100%|██████████| 13/13 [00:00<00:00, 57.11it/s]\n",
      "0it [00:00, ?it/s]\n",
      "100%|██████████| 1/1 [00:00<00:00, 823.22it/s]\n",
      "0it [00:00, ?it/s]\n",
      "100%|██████████| 4/4 [00:00<00:00, 47.13it/s]"
     ]
    },
    {
     "name": "stdout",
     "output_type": "stream",
     "text": [
      "save: /media/zhou/PROGRAM/WorkSpace/bugzilla-tw-5.0.4/template/zh-TW/result/search/knob.html.tmpl\n",
      "save: /media/zhou/PROGRAM/WorkSpace/bugzilla-tw-5.0.4/template/zh-TW/result/search/search-advanced.html.tmpl\n",
      "save: /media/zhou/PROGRAM/WorkSpace/bugzilla-tw-5.0.4/template/zh-TW/result/search/search-create-series.html.tmpl\n",
      "save: /media/zhou/PROGRAM/WorkSpace/bugzilla-tw-5.0.4/template/zh-TW/result/search/search-plugin.xml.tmpl\n",
      "save: /media/zhou/PROGRAM/WorkSpace/bugzilla-tw-5.0.4/template/zh-TW/result/search/search-report-graph.html.tmpl\n",
      "save: /media/zhou/PROGRAM/WorkSpace/bugzilla-tw-5.0.4/template/zh-TW/result/search/search-report-select.html.tmpl\n",
      "save: /media/zhou/PROGRAM/WorkSpace/bugzilla-tw-5.0.4/template/zh-TW/result/search/search-report-table.html.tmpl\n",
      "save: /media/zhou/PROGRAM/WorkSpace/bugzilla-tw-5.0.4/template/zh-TW/result/search/search-specific.html.tmpl\n",
      "save: /media/zhou/PROGRAM/WorkSpace/bugzilla-tw-5.0.4/template/zh-TW/result/search/tabs.html.tmpl\n",
      "save: /media/zhou/PROGRAM/WorkSpace/bugzilla-tw-5.0.4/template/zh-TW/result/search/type-select.html.tmpl\n",
      "save: /media/zhou/PROGRAM/WorkSpace/bugzilla-tw-5.0.4/template/zh-TW/result/setup/strings.txt.pl\n",
      "save: /media/zhou/PROGRAM/WorkSpace/bugzilla-tw-5.0.4/template/zh-TW/result/whine/header.txt.tmpl\n",
      "save: /media/zhou/PROGRAM/WorkSpace/bugzilla-tw-5.0.4/template/zh-TW/result/whine/mail.html.tmpl\n",
      "save: /media/zhou/PROGRAM/WorkSpace/bugzilla-tw-5.0.4/template/zh-TW/result/whine/mail.txt.tmpl\n",
      "save: /media/zhou/PROGRAM/WorkSpace/bugzilla-tw-5.0.4/template/zh-TW/result/whine/schedule.html.tmpl\n"
     ]
    },
    {
     "name": "stderr",
     "output_type": "stream",
     "text": [
      "\n"
     ]
    }
   ],
   "source": [
    "for root,dirs,files in os.walk(target_dir):\n",
    "    for directory in tqdm(dirs):\n",
    "        result_src_dir = result_dir + root[len(target_dir):] + \"/\" + directory\n",
    "        if not os.path.exists(result_src_dir):  \n",
    "            os.makedirs(result_src_dir)\n",
    "            print(\"mkdir: \" + result_src_dir)\n",
    "    for file in tqdm(files):\n",
    "        original_src_file = os.path.join(root, file)\n",
    "        result_src_file = result_dir + root[len(target_dir):] + \"/\" + file\n",
    "        if(original_src_file[-5:] == \".tmpl\"):\n",
    "            translate(original_src_file, result_src_file)\n",
    "        else:\n",
    "            shutil.copy(original_src_file, result_src_file)\n",
    "            print(\"save: \" + result_src_file)"
   ]
  },
  {
   "cell_type": "code",
   "execution_count": 8,
   "metadata": {},
   "outputs": [
    {
     "name": "stdout",
     "output_type": "stream",
     "text": [
      "Done!\n"
     ]
    }
   ],
   "source": [
    "print(\"Done!\")"
   ]
  }
 ],
 "metadata": {
  "kernelspec": {
   "display_name": "Python 3",
   "language": "python",
   "name": "python3"
  },
  "language_info": {
   "codemirror_mode": {
    "name": "ipython",
    "version": 3
   },
   "file_extension": ".py",
   "mimetype": "text/x-python",
   "name": "python",
   "nbconvert_exporter": "python",
   "pygments_lexer": "ipython3",
   "version": "3.7.0"
  }
 },
 "nbformat": 4,
 "nbformat_minor": 2
}
