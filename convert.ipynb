{
 "cells": [
  {
   "cell_type": "code",
   "execution_count": null,
   "metadata": {},
   "outputs": [],
   "source": [
    "from langconv import *\n",
    "import os, shutil\n",
    "from tqdm import tqdm"
   ]
  },
  {
   "cell_type": "code",
   "execution_count": null,
   "metadata": {},
   "outputs": [],
   "source": [
    "local_dir = os.path.abspath('.')\n",
    "target_dir = './default'\n",
    "result_dir = local_dir + '/result'\n",
    "if not os.path.exists(result_dir):  \n",
    "    os.makedirs(result_dir)"
   ]
  },
  {
   "cell_type": "code",
   "execution_count": null,
   "metadata": {},
   "outputs": [],
   "source": [
    "def Traditional2Simplified(sentence):\n",
    "    sentence = Converter('zh-hans').convert(sentence)\n",
    "    return sentence"
   ]
  },
  {
   "cell_type": "code",
   "execution_count": null,
   "metadata": {},
   "outputs": [],
   "source": [
    "def readtemp(filePath):\n",
    "    with open(filePath, \"rb\") as fr:\n",
    "        return fr.read().decode(\"utf8\", \"replace\")"
   ]
  },
  {
   "cell_type": "code",
   "execution_count": null,
   "metadata": {},
   "outputs": [],
   "source": [
    "def writeFile(filePath, content):\n",
    "    with open(filePath, \"wb\") as fw:\n",
    "        fw.write(content.encode(\"utf8\", \"replace\"))"
   ]
  },
  {
   "cell_type": "code",
   "execution_count": null,
   "metadata": {},
   "outputs": [],
   "source": [
    "def translate(filepath,resultpath):\n",
    "    traditional_sentence = readtemp(filepath)\n",
    "    simplified_sentence = Traditional2Simplified(traditional_sentence)\n",
    "    writeFile(resultpath, simplified_sentence)\n",
    "    print(\"save: \" + resultpath)"
   ]
  },
  {
   "cell_type": "code",
   "execution_count": null,
   "metadata": {
    "scrolled": true
   },
   "outputs": [],
   "source": [
    "for root,dirs,files in os.walk(target_dir):\n",
    "    for directory in tqdm(dirs):\n",
    "        result_src_dir = result_dir + root[len(target_dir):] + \"/\" + directory\n",
    "        if not os.path.exists(result_src_dir):  \n",
    "            os.makedirs(result_src_dir)\n",
    "            print(\"mkdir: \" + result_src_dir)\n",
    "    for file in tqdm(files):\n",
    "        original_src_file = os.path.join(root, file)\n",
    "        result_src_file = result_dir + root[len(target_dir):] + \"/\" + file\n",
    "        if(original_src_file[-5:] == \".tmpl\"):\n",
    "            translate(original_src_file, result_src_file)\n",
    "        else:\n",
    "            shutil.copy(original_src_file, result_src_file)\n",
    "            print(\"save: \" + result_src_file)"
   ]
  },
  {
   "cell_type": "code",
   "execution_count": null,
   "metadata": {},
   "outputs": [],
   "source": [
    "print(\"Done!\")"
   ]
  }
 ],
 "metadata": {
  "kernelspec": {
   "display_name": "Python 3",
   "language": "python",
   "name": "python3"
  },
  "language_info": {
   "codemirror_mode": {
    "name": "ipython",
    "version": 3
   },
   "file_extension": ".py",
   "mimetype": "text/x-python",
   "name": "python",
   "nbconvert_exporter": "python",
   "pygments_lexer": "ipython3",
   "version": "3.7.0"
  }
 },
 "nbformat": 4,
 "nbformat_minor": 2
}
